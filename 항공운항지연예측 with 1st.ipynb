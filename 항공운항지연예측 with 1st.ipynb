{
 "cells": [
  {
   "cell_type": "markdown",
   "metadata": {},
   "source": [
    "# 월간 데이콘 항공편 지연 예측 AI 경진대회\n",
    "https://dacon.io/competitions/official/236094/overview/description"
   ]
  },
  {
   "cell_type": "markdown",
   "metadata": {},
   "source": [
    "## 23-1학기 빅데이터처리 기말 프로젝트\n",
    "### 팀원\n",
    "- 이시내\n",
    "- 유동혁\n",
    "- 김명학\n",
    "- 박준수\n",
    "--- \n",
    "### 이 후 수정 방법:\n",
    "1. ['Delay_per']의 평균을 내서 상위 50퍼는 Delayed로 간주, ['Delay_num']에 삽입\n",
    "    - 0.6821020302점 달성.\n",
    "2. labeled['Delay_num']의 평균을 내서 (약 0.17647), 상위 20%의 ['Delay_per']를 Delayed로 간주\n",
    "    - 0.7751130567점 달성\n",
    "3. 전처리 이후 train['Delay_per'](dtype = float)만 이용해서 no tune xgboost 실행\n",
    "    - 0.7464493418점 달성\n",
    "4. 전처리 과정 중 unlabeled의 전체를 한번에 채워넣는 것이 아니라, unlabeled를 여러 조각으로 나눠 조금씩 labeled에 합침\n",
    "    - 0.6857301445점 달성\n",
    "5. 나눠서 학습하는 과정에서 labeled['Delay_per']를 기준으로 학습하고 전체 평균을 기준으로 train['Delay_num']을 채워넣음\n",
    "    - 0.6561362148점 달성\n",
    "6. EDT, EAT 데이터 전처리 후 학습\n",
    "    - 이는 `항공운항지연예측 Final-model` 파일에 저장함\n",
    "    - public: 0.6337836841점 , private: 0.7080757848점\n",
    "7. 대회 종료 후, [private점수 1위의 코드](https://dacon.io/competitions/official/236094/codeshare/8341)를 참고하여 수정한 모델\n",
    "    - 이는 `항공운항지연예측 with 1st.ipynb` 파일에 저장함\n",
    "    - public: 0.6234701617점, praivate: 0.7169214489점\n"
   ]
  },
  {
   "cell_type": "code",
   "execution_count": 1,
   "metadata": {},
   "outputs": [],
   "source": [
    "# 경고메세지 끄기\n",
    "import warnings\n",
    "warnings.filterwarnings(action='ignore')\n",
    "\n",
    "# 프로그램 시간 측정\n",
    "import math\n",
    "import time\n",
    "import datetime\n",
    "time_start =  time.time()\n",
    "print('시작 시각:', time.strftime('%Y.%m.%d - %H:%M:%S'))"
   ]
  },
  {
   "cell_type": "code",
   "execution_count": 2,
   "metadata": {},
   "outputs": [],
   "source": [
    "import pandas as pd\n",
    "import numpy as np\n",
    "from sklearn.ensemble import RandomForestClassifier\n",
    "from sklearn.metrics import accuracy_score\n",
    "from sklearn.model_selection import train_test_split\n",
    "\n",
    "import random\n",
    "import os\n",
    "import gc\n",
    "\n",
    "from sklearn.preprocessing import LabelEncoder\n",
    "from sklearn.base import clone\n",
    "from sklearn.naive_bayes import GaussianNB\n",
    "import xgboost as xgb\n",
    "from bayes_opt import BayesianOptimization\n",
    "from sklearn.model_selection import cross_val_score\n",
    "from collections import defaultdict"
   ]
  },
  {
   "cell_type": "code",
   "execution_count": 3,
   "metadata": {},
   "outputs": [],
   "source": [
    "def seed_everything(seed):\n",
    "    random.seed(seed)\n",
    "    os.environ['PYTHONHASHSEED'] = str(seed)\n",
    "    np.random.seed(seed)\n",
    "\n",
    "seed_everything(42) # Seed 고정"
   ]
  },
  {
   "cell_type": "markdown",
   "metadata": {},
   "source": [
    "## 데이터 불러오기"
   ]
  },
  {
   "cell_type": "code",
   "execution_count": 4,
   "metadata": {},
   "outputs": [],
   "source": [
    "def csv_to_parquet(csv_path, save_name):\n",
    "    df = pd.read_csv(csv_path)\n",
    "    df.to_parquet(f'./{save_name}.parquet')\n",
    "    del df\n",
    "    gc.collect()\n",
    "    print(save_name, 'Done.')\n",
    "\n",
    "# csv_to_parquet('./train.csv', 'train')\n",
    "# csv_to_parquet('./test.csv', 'test')"
   ]
  },
  {
   "cell_type": "code",
   "execution_count": 5,
   "metadata": {},
   "outputs": [],
   "source": [
    "train = pd.read_parquet('./train.parquet')\n",
    "test = pd.read_parquet('./test.parquet')\n",
    "sample_submission = pd.read_csv('sample_submission.csv', index_col = 0)"
   ]
  },
  {
   "cell_type": "code",
   "execution_count": 6,
   "metadata": {},
   "outputs": [
    {
     "name": "stdout",
     "output_type": "stream",
     "text": [
      "<class 'pandas.core.frame.DataFrame'>\n",
      "RangeIndex: 1000000 entries, 0 to 999999\n",
      "Data columns (total 19 columns):\n",
      " #   Column                    Non-Null Count    Dtype  \n",
      "---  ------                    --------------    -----  \n",
      " 0   ID                        1000000 non-null  object \n",
      " 1   Month                     1000000 non-null  int64  \n",
      " 2   Day_of_Month              1000000 non-null  int64  \n",
      " 3   Estimated_Departure_Time  890981 non-null   float64\n",
      " 4   Estimated_Arrival_Time    890960 non-null   float64\n",
      " 5   Cancelled                 1000000 non-null  int64  \n",
      " 6   Diverted                  1000000 non-null  int64  \n",
      " 7   Origin_Airport            1000000 non-null  object \n",
      " 8   Origin_Airport_ID         1000000 non-null  int64  \n",
      " 9   Origin_State              890985 non-null   object \n",
      " 10  Destination_Airport       1000000 non-null  object \n",
      " 11  Destination_Airport_ID    1000000 non-null  int64  \n",
      " 12  Destination_State         890921 non-null   object \n",
      " 13  Distance                  1000000 non-null  float64\n",
      " 14  Airline                   891080 non-null   object \n",
      " 15  Carrier_Code(IATA)        891010 non-null   object \n",
      " 16  Carrier_ID(DOT)           891003 non-null   float64\n",
      " 17  Tail_Number               1000000 non-null  object \n",
      " 18  Delay                     255001 non-null   object \n",
      "dtypes: float64(4), int64(6), object(9)\n",
      "memory usage: 145.0+ MB\n"
     ]
    }
   ],
   "source": [
    "train.info()"
   ]
  },
  {
   "cell_type": "code",
   "execution_count": 7,
   "metadata": {},
   "outputs": [
    {
     "name": "stdout",
     "output_type": "stream",
     "text": [
      "<class 'pandas.core.frame.DataFrame'>\n",
      "RangeIndex: 1000000 entries, 0 to 999999\n",
      "Data columns (total 18 columns):\n",
      " #   Column                    Non-Null Count    Dtype  \n",
      "---  ------                    --------------    -----  \n",
      " 0   ID                        1000000 non-null  object \n",
      " 1   Month                     1000000 non-null  int64  \n",
      " 2   Day_of_Month              1000000 non-null  int64  \n",
      " 3   Estimated_Departure_Time  891016 non-null   float64\n",
      " 4   Estimated_Arrival_Time    890952 non-null   float64\n",
      " 5   Cancelled                 1000000 non-null  int64  \n",
      " 6   Diverted                  1000000 non-null  int64  \n",
      " 7   Origin_Airport            1000000 non-null  object \n",
      " 8   Origin_Airport_ID         1000000 non-null  int64  \n",
      " 9   Origin_State              893495 non-null   object \n",
      " 10  Destination_Airport       1000000 non-null  object \n",
      " 11  Destination_Airport_ID    1000000 non-null  int64  \n",
      " 12  Destination_State         893477 non-null   object \n",
      " 13  Distance                  1000000 non-null  float64\n",
      " 14  Airline                   893473 non-null   object \n",
      " 15  Carrier_Code(IATA)        891007 non-null   object \n",
      " 16  Carrier_ID(DOT)           890994 non-null   float64\n",
      " 17  Tail_Number               1000000 non-null  object \n",
      "dtypes: float64(4), int64(6), object(8)\n",
      "memory usage: 137.3+ MB\n"
     ]
    }
   ],
   "source": [
    "test.info()"
   ]
  },
  {
   "cell_type": "code",
   "execution_count": 8,
   "metadata": {},
   "outputs": [
    {
     "name": "stdout",
     "output_type": "stream",
     "text": [
      "<class 'pandas.core.frame.DataFrame'>\n",
      "Index: 1000000 entries, TEST_000000 to TEST_999999\n",
      "Data columns (total 2 columns):\n",
      " #   Column       Non-Null Count    Dtype\n",
      "---  ------       --------------    -----\n",
      " 0   Not_Delayed  1000000 non-null  int64\n",
      " 1   Delayed      1000000 non-null  int64\n",
      "dtypes: int64(2)\n",
      "memory usage: 22.9+ MB\n"
     ]
    }
   ],
   "source": [
    "sample_submission.info()"
   ]
  },
  {
   "cell_type": "markdown",
   "metadata": {},
   "source": [
    "## 데이터 전처리 과정"
   ]
  },
  {
   "cell_type": "markdown",
   "metadata": {},
   "source": [
    "#### 1. Delay열을 제외한 열에 존재하는 결측값을 채웁니다."
   ]
  },
  {
   "cell_type": "markdown",
   "metadata": {},
   "source": [
    "##### 1-1. EDT, EAT의 전처리를 진행합니다. "
   ]
  },
  {
   "cell_type": "code",
   "execution_count": 9,
   "metadata": {},
   "outputs": [],
   "source": [
    "#EDT, EAT가 모두 결측값인 행 제거\n",
    "train = train.dropna(subset=['Estimated_Departure_Time', 'Estimated_Arrival_Time'], how='all')"
   ]
  },
  {
   "cell_type": "code",
   "execution_count": 10,
   "metadata": {},
   "outputs": [],
   "source": [
    "# Arrival Time & Departure Time 둘 다 60분 * 24 = 1440 계로 바꿔주기\n",
    "def to_minutes(x):\n",
    "    x = int(x)\n",
    "    x = str(x)\n",
    "    if len(x) > 2:\n",
    "        hours, mins = int(x[:-2]), int(x[-2:])\n",
    "    else:\n",
    "        hours, mins = 0, int(x[-2:])\n",
    "    return hours*60+mins\n",
    "\n",
    "estimated_times = ['Estimated_Departure_Time', 'Estimated_Arrival_Time']\n",
    "\n",
    "for ET in estimated_times:\n",
    "    cond = ~train[ET].isnull()\n",
    "    train.loc[cond, ET] = train.loc[cond, ET].apply(lambda x: to_minutes(x))\n",
    "    cond2 = ~test[ET].isnull()\n",
    "    test.loc[cond2, ET] = test.loc[cond2, ET].apply(lambda x: to_minutes(x))"
   ]
  },
  {
   "cell_type": "code",
   "execution_count": 11,
   "metadata": {},
   "outputs": [],
   "source": [
    "# (OAID, DAID)를 키로 갖고, 평균 비행시간을 값으로 갖는 dictionary 만들기\n",
    "time_flying = defaultdict(int)\n",
    "time_number = defaultdict(int)\n",
    "\n",
    "cond_arr2 = ~train['Estimated_Arrival_Time'].isnull()\n",
    "cond_dep2 = ~train['Estimated_Departure_Time'].isnull()\n",
    "\n",
    "for _, row in train.loc[cond_arr2 & cond_dep2, :].iterrows():\n",
    "    OAID, DAID = row['Origin_Airport_ID'], row['Destination_Airport_ID']\n",
    "    time_flying[(OAID,DAID)] += (row['Estimated_Arrival_Time'] - row['Estimated_Departure_Time'])%1440 # 하루 최대는 1440분\n",
    "    time_number[(OAID,DAID)] += 1\n",
    "    \n",
    "    \n",
    "for key in time_flying.keys():\n",
    "    time_flying[key] /= time_number[key]"
   ]
  },
  {
   "cell_type": "code",
   "execution_count": 12,
   "metadata": {},
   "outputs": [],
   "source": [
    "# Dictionary를 이용해 EAT, EDT 복구\n",
    "for index, row in train.loc[train['Estimated_Departure_Time'].isnull(),].iterrows():\n",
    "    OAID, DAID = row['Origin_Airport_ID'], row['Destination_Airport_ID']\n",
    "    train.loc[index,'Estimated_Departure_Time'] = \\\n",
    "        (train.loc[index]['Estimated_Arrival_Time'] - time_flying[(OAID, DAID)])%1440\n",
    "    \n",
    "for index, row in train.loc[train['Estimated_Arrival_Time'].isnull(),].iterrows():\n",
    "    OAID, DAID = row['Origin_Airport_ID'], row['Destination_Airport_ID']\n",
    "    train.loc[index,'Estimated_Arrival_Time'] = \\\n",
    "        (train.loc[index]['Estimated_Departure_Time'] + time_flying[(OAID, DAID)])%1440"
   ]
  },
  {
   "cell_type": "markdown",
   "metadata": {},
   "source": [
    "test data의 경우 복구 안 된 row를 빼 버리면 안됩니다. 복구 안된 row도 예측을 해야되기 때문이죠.\n",
    "따라서, EAT, EDT 둘 다 없는 row는 각각의 최빈값을 채워주도록 하고 나머지는 복구를 해줍니다."
   ]
  },
  {
   "cell_type": "code",
   "execution_count": 13,
   "metadata": {},
   "outputs": [
    {
     "name": "stdout",
     "output_type": "stream",
     "text": [
      "EDT, EAT Done.\n"
     ]
    }
   ],
   "source": [
    "# (Test Data Only)\n",
    "# 둘 다 없으면 최빈값으로 대체\n",
    "cond_1 = test['Estimated_Departure_Time'].isnull()\n",
    "cond_2 = test['Estimated_Arrival_Time'].isnull()\n",
    "\n",
    "mode = test['Estimated_Departure_Time'].mode()[0]\n",
    "mode2 = test['Estimated_Arrival_Time'].mode()[0]\n",
    "test.loc[cond_1&cond_2, ['Estimated_Departure_Time', 'Estimated_Arrival_Time']] = mode, mode2\n",
    "\n",
    "\n",
    "# Departure만 없을 때,\n",
    "for index, row in test.loc[test['Estimated_Departure_Time'].isnull(),].iterrows():\n",
    "    OAID, DAID = row['Origin_Airport_ID'], row['Destination_Airport_ID']\n",
    "    test.loc[index,'Estimated_Departure_Time'] = \\\n",
    "        (test.loc[index]['Estimated_Arrival_Time'] - time_flying[(OAID, DAID)])%1440\n",
    "    \n",
    "\n",
    "# Arrival만 없을 때,\n",
    "for index, row in test.loc[test['Estimated_Arrival_Time'].isnull(),].iterrows():\n",
    "    OAID, DAID = row['Origin_Airport_ID'], row['Destination_Airport_ID']\n",
    "    test.loc[index,'Estimated_Arrival_Time'] = \\\n",
    "        (test.loc[index]['Estimated_Departure_Time'] + time_flying[(OAID, DAID)])%1440\n",
    "\n",
    "    \n",
    "# 모두 int로 바꾼다.\n",
    "estimated_times = ['Estimated_Departure_Time', 'Estimated_Arrival_Time']\n",
    "train = train.astype({'Estimated_Departure_Time':int, 'Estimated_Arrival_Time':int})\n",
    "test = test.astype({'Estimated_Departure_Time':int, 'Estimated_Arrival_Time':int})\n",
    "for ET in estimated_times:\n",
    "    train.loc[train[ET] == 1440, ET] = 0\n",
    "    test.loc[test[ET] == 1440, ET] = 0\n",
    "\n",
    "\n",
    "print(\"EDT, EAT Done.\")"
   ]
  },
  {
   "cell_type": "markdown",
   "metadata": {},
   "source": [
    "사람이 붐비는 특정 시간이 비행기 연착에 영향을 줄 수도 있으므로, EDT, EAT를 30분단위로 48개의 구간에 넣습니다."
   ]
  },
  {
   "cell_type": "code",
   "execution_count": 14,
   "metadata": {},
   "outputs": [
    {
     "name": "stdout",
     "output_type": "stream",
     "text": [
      "EDT, EAT Done.\n"
     ]
    }
   ],
   "source": [
    "# EDT, EAT 48개의 bins에 담으면 된다. 1440(60*24) 계니까, 48씩 끊어서 하면 될 듯\n",
    "estimated_times = ['Estimated_Departure_Time', 'Estimated_Arrival_Time']\n",
    "names = {'Estimated_Departure_Time':'EDT', 'Estimated_Arrival_Time':'EAT'}\n",
    "for ET in estimated_times:\n",
    "    for i in range(48):\n",
    "        train.loc[train[ET].between(i*30, (i+1)*30, 'left'), names[ET]] = i\n",
    "        test.loc[test[ET].between(i*30, (i+1)*30, 'left'), names[ET]] = i\n",
    "\n",
    "train = train.astype({'EDT':int, 'EAT':int})\n",
    "test = test.astype({'EDT':int, 'EAT':int})\n",
    "\n",
    "train = train.drop(['Estimated_Departure_Time', 'Estimated_Arrival_Time'], axis=1)\n",
    "test = test.drop(['Estimated_Departure_Time', 'Estimated_Arrival_Time'], axis=1)\n",
    "\n",
    "print(\"EDT, EAT Done.\")"
   ]
  },
  {
   "cell_type": "markdown",
   "metadata": {},
   "source": [
    "##### 1-2. Month, Days 처리\n",
    "날짜를 366(윤년 고려)일 형식으로 변환합니다."
   ]
  },
  {
   "cell_type": "code",
   "execution_count": 15,
   "metadata": {},
   "outputs": [
    {
     "name": "stdout",
     "output_type": "stream",
     "text": [
      "Day Done.\n"
     ]
    }
   ],
   "source": [
    "def to_days(x):\n",
    "    month_to_days = {1:0, 2:31, 3:60, 4:91, 5:121, 6:152, 7:182, 8:213, 9:244, 10:274, 11:305, 12:335}\n",
    "    return month_to_days[x]\n",
    "\n",
    "train.loc[:, 'Day'] = train['Month'].apply(lambda x: to_days(x))\n",
    "train['Day'] = train['Day'] + train['Day_of_Month']\n",
    "\n",
    "test.loc[:, 'Day'] = test['Month'].apply(lambda x: to_days(x))\n",
    "test['Day'] = test['Day'] + test['Day_of_Month']\n",
    "\n",
    "train = train.astype({'Day':'int64'})\n",
    "test = test.astype({'Day':'int64'})\n",
    "\n",
    "print(\"Day Done.\")"
   ]
  },
  {
   "cell_type": "markdown",
   "metadata": {},
   "source": [
    "##### 1-3 Carrier_ID(DOT)의 결측값을 Airline으로 채워넣기\n",
    "데이터 설명에 따르면 Carrier_ID(DOT)는 Airline별로 하나가 할당되어 1대1 대응하기 때문에, 숫자 형태인 Carrier_ID(DOT)를 복구해봅니다."
   ]
  },
  {
   "cell_type": "code",
   "execution_count": 16,
   "metadata": {},
   "outputs": [
    {
     "name": "stdout",
     "output_type": "stream",
     "text": [
      "Carrier_ID(DOT) 복구 가능한 데이터의 개수 : 95982\n"
     ]
    }
   ],
   "source": [
    "# 복구 가능한 Carrier_ID(DOT)의 개수를 구합니다.\n",
    "cond1 = train['Carrier_ID(DOT)'].isnull()\n",
    "cond2 = ~train['Airline'].isnull()\n",
    "print(\"Carrier_ID(DOT) 복구 가능한 데이터의 개수 :\", len(train.loc[cond1 & cond2, :]))"
   ]
  },
  {
   "cell_type": "code",
   "execution_count": 17,
   "metadata": {},
   "outputs": [],
   "source": [
    "# airline to carrier id, dictinary 만들기\n",
    "# 모두 데이터가 존재하는 열에서 Dict[Airline] = carrier_ID(DOT) 가 되도록 dictionary 생성\n",
    "airline_to_cid = {}\n",
    "for _, row in train[(~train['Carrier_ID(DOT)'].isnull() & ~train['Airline'].isnull())].iterrows():\n",
    "    airline_to_cid[row['Airline']] = row['Carrier_ID(DOT)']"
   ]
  },
  {
   "cell_type": "code",
   "execution_count": 18,
   "metadata": {},
   "outputs": [],
   "source": [
    "# Carrier_ID(DOT) 복구하기\n",
    "def to_cid(x):\n",
    "    return airline_to_cid[x]\n",
    "\n",
    "cond1 = train['Carrier_ID(DOT)'].isnull()\n",
    "cond2 = ~train['Airline'].isnull()\n",
    "train.loc[cond1&cond2, 'Carrier_ID(DOT)'] = train.loc[cond1&cond2, 'Airline'].apply(lambda x: to_cid(x))"
   ]
  },
  {
   "cell_type": "code",
   "execution_count": 19,
   "metadata": {},
   "outputs": [],
   "source": [
    "# 복구 안 된 row 빼기\n",
    "train = train.dropna(subset=['Carrier_ID(DOT)'], how='any', axis=0)"
   ]
  },
  {
   "cell_type": "markdown",
   "metadata": {},
   "source": [
    "test data는 복구 안 된 row를 삭제하면 안되기 때문에,    \n",
    "train data와 같은 방법으로 복구가 불가능한 row는 최빈값으로 채워줍니다."
   ]
  },
  {
   "cell_type": "code",
   "execution_count": 20,
   "metadata": {},
   "outputs": [
    {
     "name": "stdout",
     "output_type": "stream",
     "text": [
      "Cid Done.\n"
     ]
    }
   ],
   "source": [
    "# (Test Data Only)\n",
    "# Airline, Carrier_Code 둘 다 없으면 최빈 값으로 대체\n",
    "NaN_col = ['Carrier_ID(DOT)']\n",
    "cond1 = test['Airline'].isnull()\n",
    "cond2 = test['Carrier_ID(DOT)'].isnull()\n",
    "\n",
    "for col in NaN_col:\n",
    "    mode = test[col].mode()[0]\n",
    "    test.loc[cond1&cond2, col] = mode\n",
    "\n",
    "# 나머진 Airline에서 대체\n",
    "cond1 = test['Carrier_ID(DOT)'].isnull()\n",
    "cond2 = ~test['Airline'].isnull()\n",
    "test.loc[cond1&cond2, 'Carrier_ID(DOT)'] = test.loc[cond1&cond2, 'Airline'].apply(lambda x: to_cid(x))\n",
    "\n",
    "print(\"Cid Done.\")"
   ]
  },
  {
   "cell_type": "markdown",
   "metadata": {},
   "source": [
    "##### 1-4 Distance 처리\n",
    "Distance가 너무 세세하므로 100단위로 끊어 50개의 구간에 넣어 정리합니다"
   ]
  },
  {
   "cell_type": "code",
   "execution_count": 21,
   "metadata": {},
   "outputs": [
    {
     "name": "stdout",
     "output_type": "stream",
     "text": [
      "distance Done.\n"
     ]
    }
   ],
   "source": [
    "for i in range(51):\n",
    "    train.loc[train['Distance'].between(i*100, (i+1)*100, 'left'), 'Distance'] = i\n",
    "    test.loc[test['Distance'].between(i*100, (i+1)*100, 'left'), 'Distance'] = i\n",
    "\n",
    "train = train.astype({'Distance':int})\n",
    "test = test.astype({'Distance':int})\n",
    "\n",
    "print(\"distance Done.\")"
   ]
  },
  {
   "cell_type": "markdown",
   "metadata": {},
   "source": [
    "##### 1-5 필요 없는 Columns 제거\n",
    "Month, Day_of_Month 는 Day의 데이터로 합쳐졌으니 제거합니다.    \n",
    "Cancelled, Diverted 는 모두 0이므로 의미없는 값이므로 제거합니다.   \n",
    "Origin_Airport, Destination_Airport 는 Origin_Airport_ID와    Destination_Airport_ID와 1대1대응 이므로 제거합니다.   \n",
    "Carrier_Code(IATA)는 Airline 별로 N:1로 할당 된 값이므로, 큰 의미가 없습니다. 제거합니다.   \n",
    "State 정보 보다는 Origin_Airport_ID가 중요하다고 생각되어서 (미국 주는 너무 커서 의미가 없다고 생각했음) 제거했습니다.   "
   ]
  },
  {
   "cell_type": "code",
   "execution_count": 22,
   "metadata": {},
   "outputs": [
    {
     "name": "stdout",
     "output_type": "stream",
     "text": [
      "Drop Done.\n"
     ]
    }
   ],
   "source": [
    "col_drop = ['Month', 'Day_of_Month', 'Cancelled', 'Diverted', 'Origin_Airport', 'Destination_Airport', 'Carrier_Code(IATA)', 'Airline', 'Origin_State', 'Destination_State']\n",
    "train = train.drop(col_drop, axis=1)\n",
    "test = test.drop(col_drop, axis=1)\n",
    "print(\"Drop Done.\")"
   ]
  },
  {
   "cell_type": "markdown",
   "metadata": {},
   "source": [
    "#### 2. LabelEncoder를 이용해, 질적 변수들을 수치화합니다.\n"
   ]
  },
  {
   "cell_type": "code",
   "execution_count": 23,
   "metadata": {},
   "outputs": [
    {
     "name": "stdout",
     "output_type": "stream",
     "text": [
      "qual_col Done.\n"
     ]
    }
   ],
   "source": [
    "qual_col = ['Tail_Number']\n",
    "\n",
    "for i in qual_col:\n",
    "    le = LabelEncoder()\n",
    "    le=le.fit(train[i])\n",
    "    train[i]=le.transform(train[i])\n",
    "    \n",
    "    for label in np.unique(test[i]):\n",
    "        if label not in le.classes_: \n",
    "            le.classes_ = np.append(le.classes_, label)\n",
    "    test[i]=le.transform(test[i])\n",
    "print('qual_col Done.')"
   ]
  },
  {
   "cell_type": "markdown",
   "metadata": {},
   "source": [
    "전처리 완료 후 train과 test의 info 확인"
   ]
  },
  {
   "cell_type": "code",
   "execution_count": 24,
   "metadata": {},
   "outputs": [
    {
     "name": "stdout",
     "output_type": "stream",
     "text": [
      "<class 'pandas.core.frame.DataFrame'>\n",
      "Index: 976567 entries, 1 to 999999\n",
      "Data columns (total 10 columns):\n",
      " #   Column                  Non-Null Count   Dtype  \n",
      "---  ------                  --------------   -----  \n",
      " 0   ID                      976567 non-null  object \n",
      " 1   Origin_Airport_ID       976567 non-null  int64  \n",
      " 2   Destination_Airport_ID  976567 non-null  int64  \n",
      " 3   Distance                976567 non-null  int32  \n",
      " 4   Carrier_ID(DOT)         976567 non-null  float64\n",
      " 5   Tail_Number             976567 non-null  int32  \n",
      " 6   Delay                   249021 non-null  object \n",
      " 7   EDT                     976567 non-null  int32  \n",
      " 8   EAT                     976567 non-null  int32  \n",
      " 9   Day                     976567 non-null  int64  \n",
      "dtypes: float64(1), int32(4), int64(3), object(2)\n",
      "memory usage: 67.1+ MB\n"
     ]
    }
   ],
   "source": [
    "train.info()"
   ]
  },
  {
   "cell_type": "code",
   "execution_count": 25,
   "metadata": {},
   "outputs": [
    {
     "name": "stdout",
     "output_type": "stream",
     "text": [
      "<class 'pandas.core.frame.DataFrame'>\n",
      "RangeIndex: 1000000 entries, 0 to 999999\n",
      "Data columns (total 9 columns):\n",
      " #   Column                  Non-Null Count    Dtype  \n",
      "---  ------                  --------------    -----  \n",
      " 0   ID                      1000000 non-null  object \n",
      " 1   Origin_Airport_ID       1000000 non-null  int64  \n",
      " 2   Destination_Airport_ID  1000000 non-null  int64  \n",
      " 3   Distance                1000000 non-null  int32  \n",
      " 4   Carrier_ID(DOT)         1000000 non-null  float64\n",
      " 5   Tail_Number             1000000 non-null  int32  \n",
      " 6   EDT                     1000000 non-null  int32  \n",
      " 7   EAT                     1000000 non-null  int32  \n",
      " 8   Day                     1000000 non-null  int64  \n",
      "dtypes: float64(1), int32(4), int64(3), object(1)\n",
      "memory usage: 53.4+ MB\n"
     ]
    }
   ],
   "source": [
    "test.info()"
   ]
  },
  {
   "cell_type": "markdown",
   "metadata": {},
   "source": [
    "#### 3. Delay 열에 결측값이 없는 행들과 있는 행들을 분리합니다."
   ]
  },
  {
   "cell_type": "code",
   "execution_count": 26,
   "metadata": {},
   "outputs": [
    {
     "name": "stdout",
     "output_type": "stream",
     "text": [
      "(976567, 10)\n",
      "(249021, 10)\n",
      "(727546, 10)\n"
     ]
    }
   ],
   "source": [
    "labeled = train.dropna(subset=['Delay'])\n",
    "unlabeled = train[train['Delay'].isnull()]\n",
    "\n",
    "print(train.shape)\n",
    "print(labeled.shape)\n",
    "print(unlabeled.shape)"
   ]
  },
  {
   "cell_type": "markdown",
   "metadata": {},
   "source": [
    "#### 4. Delay 열의 값이 string 형태이기 때문에 이를 0 또는 1로 변환합니다."
   ]
  },
  {
   "cell_type": "code",
   "execution_count": 27,
   "metadata": {},
   "outputs": [
    {
     "name": "stdout",
     "output_type": "stream",
     "text": [
      "Delay_num Done.\n"
     ]
    }
   ],
   "source": [
    "column_number = {}\n",
    "for i, column in enumerate(sample_submission.columns):\n",
    "    column_number[column] = i\n",
    "# ==> column_number: {'Not_Delayed': 0, 'Delayed': 1}\n",
    "    \n",
    "def to_number(x, dic):\n",
    "    return dic[x]\n",
    "\n",
    "labeled.loc[:, 'Delay_num'] = labeled['Delay'].apply(lambda x: to_number(x, column_number))\n",
    "# Delay 열의 값에 따라서, Not_Delayed면 0, Delayed면 1이 Delay_num 열에 저장됨\n",
    "print('Delay_num Done.')\n",
    "\n",
    "# 위 전체 과정은 아래 코드와 같은 의미임\n",
    "# labeled['Delay_num'] = labeled['Delay'].apply(lambda x: 1 if x == 'Delayed' else 0)"
   ]
  },
  {
   "cell_type": "markdown",
   "metadata": {},
   "source": [
    "#### 5. 레이블이 없는 데이터의 `['Delay_num']`열을 채우기 위해 아래 과정을 거칩니다.\n",
    "1. 먼저 `unlabeled`를 여러 구간으로 쪼갭니다. 여기서는 20개의 구간으로 쪼갰습니다.\n",
    "2. 해당 항공편이 지연될 확률을 의미하는 `['Delay_per']`열을 만듭니다.\n",
    "3. `labeled`를 XGBoost 모델에 학습시켜, `unlabeled`의 하나의 구간의 `['Delay_per']`열을 채워넣습니다.\n",
    "4. `['Delay_per']`열이 채워진 `unlabeled` 구간을 `labeled`에 합칩니다.\n",
    "5. 3, 4의 과정을 `unlabeled`데이터에 결측치가 없을 때까지 반복합니다.\n",
    "6. `['Delay_per']`열의 평균값을 구해, 이 평균값보다 지연될 확률이 낮은 항공편은 <i>Not_Delayed</i>로 간주하고, 높은 항공편은 <i>Delayed</i>로 간주해 `['Delay_num']`열의 결측치를 채워 넣습니다."
   ]
  },
  {
   "cell_type": "code",
   "execution_count": 28,
   "metadata": {},
   "outputs": [
    {
     "name": "stdout",
     "output_type": "stream",
     "text": [
      "0: 구간 0 ~ 36377 완료, labeled size: 285398\n",
      "1: 구간 36377 ~ 72754 완료, labeled size: 321775\n",
      "2: 구간 72754 ~ 109131 완료, labeled size: 358152\n",
      "3: 구간 109131 ~ 145508 완료, labeled size: 394529\n",
      "4: 구간 145508 ~ 181885 완료, labeled size: 430906\n",
      "5: 구간 181885 ~ 218262 완료, labeled size: 467283\n",
      "6: 구간 218262 ~ 254639 완료, labeled size: 503660\n",
      "7: 구간 254639 ~ 291016 완료, labeled size: 540037\n",
      "8: 구간 291016 ~ 327393 완료, labeled size: 576414\n",
      "9: 구간 327393 ~ 363770 완료, labeled size: 612791\n",
      "10: 구간 363770 ~ 400147 완료, labeled size: 649168\n",
      "11: 구간 400147 ~ 436524 완료, labeled size: 685545\n",
      "12: 구간 436524 ~ 472901 완료, labeled size: 721922\n",
      "13: 구간 472901 ~ 509278 완료, labeled size: 758299\n",
      "14: 구간 509278 ~ 545655 완료, labeled size: 794676\n",
      "15: 구간 545655 ~ 582032 완료, labeled size: 831053\n",
      "16: 구간 582032 ~ 618409 완료, labeled size: 867430\n",
      "17: 구간 618409 ~ 654786 완료, labeled size: 903807\n",
      "18: 구간 654786 ~ 691163 완료, labeled size: 940184\n",
      "19: 구간 691163 ~ 727540 완료, labeled size: 976561\n",
      "(976561, 13)\n"
     ]
    }
   ],
   "source": [
    "labeled['Not_Delay_per'] = labeled['Delay_num'].apply(lambda x: 1 if x == 0 else 0).astype('float64')\n",
    "labeled['Delay_per'] = labeled['Delay_num'].astype('float64')\n",
    "\n",
    "num_of_gugan = 20\n",
    "for i in range(num_of_gugan):\n",
    "    gugan_size = int(round(len(unlabeled)/num_of_gugan, 0))\n",
    "    L = gugan_size * i\n",
    "    R = gugan_size * (i+1)\n",
    "    \n",
    "    small_unlabeled = unlabeled.iloc[L:R]\n",
    "    \n",
    "    # 레이블이 있는 데이터의 입력 변수와 출력 변수를 각각 labeled_x와 labeled_y로 저장\n",
    "    labeled_x = labeled.drop(columns=['ID', 'Delay', 'Delay_num', 'Not_Delay_per', 'Delay_per'])\n",
    "    labeled_y = labeled['Delay_per']\n",
    "\n",
    "    # 레이블이 없는 데이터의 입력 변수를 unlabeled_x로 저장\n",
    "    unlabeled_x = small_unlabeled.drop(columns=['ID', 'Delay'])\n",
    "\n",
    "    # XGBoost 모델의 입력 데이터 형식인 DMatrix로 변환\n",
    "    dtrain = xgb.DMatrix(labeled_x, label=labeled_y)\n",
    "    dtest = xgb.DMatrix(unlabeled_x)\n",
    "\n",
    "    # XGBoost 모델의 목적 함수와 클래스 개수 설정\n",
    "    params = {\n",
    "        'objective': 'multi:softprob',\n",
    "        'num_class': len(sample_submission.columns)\n",
    "    }\n",
    "\n",
    "    bst = xgb.train(params, dtrain)\n",
    "    small_unlabeled[['Not_Delay_per','Delay_per']] = bst.predict(dtest)\n",
    "    labeled = pd.concat([labeled, small_unlabeled])\n",
    "    print(f'{i}: 구간 {L} ~ {R} 완료, labeled size: {len(labeled)}')\n",
    "\n",
    "per_mean = np.mean(labeled['Delay_per'])\n",
    "labeled['Delay_num'] = labeled['Delay_num'].fillna((labeled['Delay_per'] > per_mean).astype(int))\n",
    "train = labeled\n",
    "print(train.shape)"
   ]
  },
  {
   "cell_type": "markdown",
   "metadata": {},
   "source": [
    "#### 전처리가 완료된 데이터를 csv, parquet 형태로 저장합니다."
   ]
  },
  {
   "cell_type": "code",
   "execution_count": 29,
   "metadata": {},
   "outputs": [
    {
     "name": "stdout",
     "output_type": "stream",
     "text": [
      "train_pre Done.\n",
      "test_pre Done.\n"
     ]
    }
   ],
   "source": [
    "# 전처리 코드를 여러 번 실행 하지 않기 위해서 csv, parquet 형식으로 한번 분리하였음\n",
    "train_pre = pd.DataFrame(data=train, columns=train.columns, index=train.index)\n",
    "train_pre.to_csv('train_pre.csv', index=False)\n",
    "\n",
    "test_pre = pd.DataFrame(data=test, columns=test.columns, index=test.index)\n",
    "test_pre.to_csv('test_pre.csv', index=False)\n",
    "\n",
    "csv_to_parquet('./train_pre.csv', 'train_pre')\n",
    "csv_to_parquet('./test_pre.csv', 'test_pre')"
   ]
  },
  {
   "cell_type": "code",
   "execution_count": 30,
   "metadata": {},
   "outputs": [],
   "source": [
    "# 한 번 이상 전처리 코드를 실행했다면, 이 셀부터 실행하면 됨\n",
    "import pandas as pd\n",
    "import numpy as np\n",
    "from sklearn.ensemble import RandomForestClassifier\n",
    "from sklearn.metrics import accuracy_score\n",
    "from sklearn.model_selection import train_test_split\n",
    "\n",
    "import random\n",
    "import os\n",
    "import gc\n",
    "\n",
    "from sklearn.preprocessing import LabelEncoder\n",
    "from sklearn.base import clone\n",
    "from sklearn.naive_bayes import GaussianNB\n",
    "import xgboost as xgb\n",
    "from bayes_opt import BayesianOptimization\n",
    "from sklearn.model_selection import cross_val_score\n",
    "\n",
    "train = pd.read_parquet('./train_pre.parquet')\n",
    "test = pd.read_parquet('./test_pre.parquet')\n",
    "sample_submission = pd.read_csv('sample_submission.csv', index_col = 0)"
   ]
  },
  {
   "cell_type": "markdown",
   "metadata": {},
   "source": [
    "## 모델 훈련 과정"
   ]
  },
  {
   "cell_type": "markdown",
   "metadata": {},
   "source": [
    "#### 1. train 데이터의 입력 변수, 출력 변수,  test 데이터의 출력변수를 저장합니다."
   ]
  },
  {
   "cell_type": "code",
   "execution_count": 31,
   "metadata": {},
   "outputs": [],
   "source": [
    "train_x = train.drop(columns=['ID', 'Delay', 'Delay_num', 'Not_Delay_per', 'Delay_per'])\n",
    "train_y = train['Delay_num'].astype('int64')\n",
    "test_x = test.drop(columns=['ID'])"
   ]
  },
  {
   "cell_type": "markdown",
   "metadata": {},
   "source": [
    "모든 입출력 변수의 데이터 타입이 int, float인 것을 확인합니다."
   ]
  },
  {
   "cell_type": "code",
   "execution_count": 32,
   "metadata": {},
   "outputs": [
    {
     "name": "stdout",
     "output_type": "stream",
     "text": [
      "<class 'pandas.core.frame.DataFrame'>\n",
      "RangeIndex: 976561 entries, 0 to 976560\n",
      "Data columns (total 8 columns):\n",
      " #   Column                  Non-Null Count   Dtype  \n",
      "---  ------                  --------------   -----  \n",
      " 0   Origin_Airport_ID       976561 non-null  int64  \n",
      " 1   Destination_Airport_ID  976561 non-null  int64  \n",
      " 2   Distance                976561 non-null  int64  \n",
      " 3   Carrier_ID(DOT)         976561 non-null  float64\n",
      " 4   Tail_Number             976561 non-null  int64  \n",
      " 5   EDT                     976561 non-null  int64  \n",
      " 6   EAT                     976561 non-null  int64  \n",
      " 7   Day                     976561 non-null  int64  \n",
      "dtypes: float64(1), int64(7)\n",
      "memory usage: 59.6 MB\n"
     ]
    }
   ],
   "source": [
    "train_x.info()"
   ]
  },
  {
   "cell_type": "code",
   "execution_count": 33,
   "metadata": {},
   "outputs": [
    {
     "data": {
      "text/plain": [
       "361271    1\n",
       "120143    0\n",
       "628459    1\n",
       "743124    1\n",
       "582837    1\n",
       "657567    1\n",
       "325447    0\n",
       "295441    0\n",
       "15886     0\n",
       "49583     1\n",
       "Name: Delay_num, dtype: int64"
      ]
     },
     "execution_count": 33,
     "metadata": {},
     "output_type": "execute_result"
    }
   ],
   "source": [
    "train_y.sample(10)"
   ]
  },
  {
   "cell_type": "code",
   "execution_count": 34,
   "metadata": {},
   "outputs": [
    {
     "name": "stdout",
     "output_type": "stream",
     "text": [
      "<class 'pandas.core.frame.DataFrame'>\n",
      "RangeIndex: 1000000 entries, 0 to 999999\n",
      "Data columns (total 8 columns):\n",
      " #   Column                  Non-Null Count    Dtype  \n",
      "---  ------                  --------------    -----  \n",
      " 0   Origin_Airport_ID       1000000 non-null  int64  \n",
      " 1   Destination_Airport_ID  1000000 non-null  int64  \n",
      " 2   Distance                1000000 non-null  int64  \n",
      " 3   Carrier_ID(DOT)         1000000 non-null  float64\n",
      " 4   Tail_Number             1000000 non-null  int64  \n",
      " 5   EDT                     1000000 non-null  int64  \n",
      " 6   EAT                     1000000 non-null  int64  \n",
      " 7   Day                     1000000 non-null  int64  \n",
      "dtypes: float64(1), int64(7)\n",
      "memory usage: 61.0 MB\n"
     ]
    }
   ],
   "source": [
    "test_x.info()"
   ]
  },
  {
   "cell_type": "markdown",
   "metadata": {},
   "source": [
    "#### 2. 하이퍼 파라미터 튜닝을 수행합니다.¶\n",
    "베이지안 최적화를 사용하여 XGBoost 모델의 최적 매개변수를 찾습니다."
   ]
  },
  {
   "cell_type": "code",
   "execution_count": 35,
   "metadata": {},
   "outputs": [
    {
     "name": "stdout",
     "output_type": "stream",
     "text": [
      "|   iter    |  target   | learni... | max_depth | n_esti... |\n",
      "-------------------------------------------------------------\n",
      "| \u001b[0m1        \u001b[0m | \u001b[0m0.6228   \u001b[0m | \u001b[0m0.2364   \u001b[0m | \u001b[0m7.45     \u001b[0m | \u001b[0m170.1    \u001b[0m |\n",
      "| \u001b[95m2        \u001b[0m | \u001b[95m0.6229   \u001b[0m | \u001b[95m0.1471   \u001b[0m | \u001b[95m6.837    \u001b[0m | \u001b[95m719.2    \u001b[0m |\n",
      "| \u001b[95m3        \u001b[0m | \u001b[95m0.6238   \u001b[0m | \u001b[95m0.03421  \u001b[0m | \u001b[95m9.694    \u001b[0m | \u001b[95m272.4    \u001b[0m |\n",
      "| \u001b[95m4        \u001b[0m | \u001b[95m0.6239   \u001b[0m | \u001b[95m0.1062   \u001b[0m | \u001b[95m6.709    \u001b[0m | \u001b[95m679.4    \u001b[0m |\n",
      "| \u001b[0m5        \u001b[0m | \u001b[0m0.6227   \u001b[0m | \u001b[0m0.1872   \u001b[0m | \u001b[0m6.203    \u001b[0m | \u001b[0m584.3    \u001b[0m |\n",
      "| \u001b[95m6        \u001b[0m | \u001b[95m0.6245   \u001b[0m | \u001b[95m0.1089   \u001b[0m | \u001b[95m5.848    \u001b[0m | \u001b[95m680.2    \u001b[0m |\n",
      "| \u001b[95m7        \u001b[0m | \u001b[95m0.6252   \u001b[0m | \u001b[95m0.04525  \u001b[0m | \u001b[95m4.314    \u001b[0m | \u001b[95m679.8    \u001b[0m |\n",
      "| \u001b[0m8        \u001b[0m | \u001b[0m0.625    \u001b[0m | \u001b[0m0.04744  \u001b[0m | \u001b[0m3.11     \u001b[0m | \u001b[0m683.7    \u001b[0m |\n",
      "| \u001b[95m9        \u001b[0m | \u001b[95m0.6253   \u001b[0m | \u001b[95m0.2007   \u001b[0m | \u001b[95m3.109    \u001b[0m | \u001b[95m673.8    \u001b[0m |\n",
      "| \u001b[0m10       \u001b[0m | \u001b[0m0.6249   \u001b[0m | \u001b[0m0.252    \u001b[0m | \u001b[0m3.149    \u001b[0m | \u001b[0m669.0    \u001b[0m |\n",
      "| \u001b[0m11       \u001b[0m | \u001b[0m0.6166   \u001b[0m | \u001b[0m0.1501   \u001b[0m | \u001b[0m9.876    \u001b[0m | \u001b[0m666.6    \u001b[0m |\n",
      "| \u001b[95m12       \u001b[0m | \u001b[95m0.6254   \u001b[0m | \u001b[95m0.1469   \u001b[0m | \u001b[95m3.325    \u001b[0m | \u001b[95m694.7    \u001b[0m |\n",
      "| \u001b[0m13       \u001b[0m | \u001b[0m0.6209   \u001b[0m | \u001b[0m0.07778  \u001b[0m | \u001b[0m9.833    \u001b[0m | \u001b[0m699.3    \u001b[0m |\n",
      "| \u001b[0m14       \u001b[0m | \u001b[0m0.6218   \u001b[0m | \u001b[0m0.1417   \u001b[0m | \u001b[0m7.01     \u001b[0m | \u001b[0m689.6    \u001b[0m |\n",
      "| \u001b[0m15       \u001b[0m | \u001b[0m0.625    \u001b[0m | \u001b[0m0.1256   \u001b[0m | \u001b[0m3.823    \u001b[0m | \u001b[0m280.1    \u001b[0m |\n",
      "| \u001b[0m16       \u001b[0m | \u001b[0m0.615    \u001b[0m | \u001b[0m0.2949   \u001b[0m | \u001b[0m9.646    \u001b[0m | \u001b[0m282.8    \u001b[0m |\n",
      "| \u001b[0m17       \u001b[0m | \u001b[0m0.6254   \u001b[0m | \u001b[0m0.1763   \u001b[0m | \u001b[0m3.109    \u001b[0m | \u001b[0m274.9    \u001b[0m |\n",
      "| \u001b[0m18       \u001b[0m | \u001b[0m0.6253   \u001b[0m | \u001b[0m0.1689   \u001b[0m | \u001b[0m3.145    \u001b[0m | \u001b[0m268.5    \u001b[0m |\n",
      "| \u001b[0m19       \u001b[0m | \u001b[0m0.6197   \u001b[0m | \u001b[0m0.2531   \u001b[0m | \u001b[0m8.217    \u001b[0m | \u001b[0m264.0    \u001b[0m |\n",
      "| \u001b[0m20       \u001b[0m | \u001b[0m0.6228   \u001b[0m | \u001b[0m0.0698   \u001b[0m | \u001b[0m9.487    \u001b[0m | \u001b[0m378.4    \u001b[0m |\n",
      "| \u001b[0m21       \u001b[0m | \u001b[0m0.6073   \u001b[0m | \u001b[0m0.2267   \u001b[0m | \u001b[0m9.608    \u001b[0m | \u001b[0m996.4    \u001b[0m |\n",
      "| \u001b[0m22       \u001b[0m | \u001b[0m0.6244   \u001b[0m | \u001b[0m0.02209  \u001b[0m | \u001b[0m3.444    \u001b[0m | \u001b[0m736.3    \u001b[0m |\n",
      "| \u001b[0m23       \u001b[0m | \u001b[0m0.6214   \u001b[0m | \u001b[0m0.1002   \u001b[0m | \u001b[0m8.818    \u001b[0m | \u001b[0m747.3    \u001b[0m |\n",
      "| \u001b[0m24       \u001b[0m | \u001b[0m0.618    \u001b[0m | \u001b[0m0.2785   \u001b[0m | \u001b[0m9.257    \u001b[0m | \u001b[0m187.4    \u001b[0m |\n",
      "| \u001b[0m25       \u001b[0m | \u001b[0m0.6087   \u001b[0m | \u001b[0m0.2618   \u001b[0m | \u001b[0m9.805    \u001b[0m | \u001b[0m730.1    \u001b[0m |\n",
      "| \u001b[0m26       \u001b[0m | \u001b[0m0.6251   \u001b[0m | \u001b[0m0.2798   \u001b[0m | \u001b[0m3.049    \u001b[0m | \u001b[0m710.0    \u001b[0m |\n",
      "| \u001b[0m27       \u001b[0m | \u001b[0m0.6243   \u001b[0m | \u001b[0m0.06759  \u001b[0m | \u001b[0m4.589    \u001b[0m | \u001b[0m157.2    \u001b[0m |\n",
      "| \u001b[0m28       \u001b[0m | \u001b[0m0.6235   \u001b[0m | \u001b[0m0.1484   \u001b[0m | \u001b[0m8.628    \u001b[0m | \u001b[0m147.6    \u001b[0m |\n",
      "| \u001b[0m29       \u001b[0m | \u001b[0m0.6246   \u001b[0m | \u001b[0m0.1278   \u001b[0m | \u001b[0m3.1      \u001b[0m | \u001b[0m137.0    \u001b[0m |\n",
      "| \u001b[0m30       \u001b[0m | \u001b[0m0.6238   \u001b[0m | \u001b[0m0.05289  \u001b[0m | \u001b[0m9.61     \u001b[0m | \u001b[0m130.4    \u001b[0m |\n",
      "=============================================================\n",
      "hyper-parameter tuning for model Done.\n"
     ]
    }
   ],
   "source": [
    "# XGBoost 모델의 입력 데이터 형식인 DMatrix로 변환\n",
    "dtrain = xgb.DMatrix(train_x, label=train_y)\n",
    "dtest = xgb.DMatrix(test_x)\n",
    "\n",
    "# XGBoost 모델의 목적 함수와 클래스 개수 설정\n",
    "params = {\n",
    "    'objective': 'multi:softprob',\n",
    "    'num_class': len(sample_submission.columns)\n",
    "}\n",
    "\n",
    "# XGBoost 모델의 교차 검증 함수 정의 (전처리 과정에 있는 함수 정의와 동일함)\n",
    "def xgb_cv(max_depth, learning_rate, n_estimators):\n",
    "    params = {\n",
    "        'max_depth': int(max_depth),\n",
    "        'learning_rate': learning_rate,\n",
    "        'n_estimators': int(n_estimators)\n",
    "    }\n",
    "    xgb_clf = xgb.XGBClassifier(**params)\n",
    "    cv_result = cross_val_score(xgb_clf, train_x, train_y, cv=3)\n",
    "    return cv_result.mean()\n",
    "\n",
    "# 베이지안 최적화 객체 생성\n",
    "xgb_bo = BayesianOptimization(xgb_cv, {\n",
    "    'max_depth': (3, 10),\n",
    "    'learning_rate': (0.01, 0.3),\n",
    "    'n_estimators': (100, 1000)\n",
    "})\n",
    "\n",
    "# 베이지안 최적화 수행\n",
    "xgb_bo.maximize()\n",
    "print(\"hyper-parameter tuning for model Done.\")"
   ]
  },
  {
   "cell_type": "markdown",
   "metadata": {},
   "source": [
    "#### 3. 찾아낸 최적의 parameters를 이용해서, XGBoost 학습을 진행하여 모델을 훈련시킵니다."
   ]
  },
  {
   "cell_type": "code",
   "execution_count": 36,
   "metadata": {},
   "outputs": [
    {
     "name": "stdout",
     "output_type": "stream",
     "text": [
      "[18:09:33] WARNING: C:\\buildkite-agent\\builds\\buildkite-windows-cpu-autoscaling-group-i-07593ffd91cd9da33-1\\xgboost\\xgboost-ci-windows\\src\\learner.cc:767: \n",
      "Parameters: { \"n_estimators\" } are not used.\n",
      "\n"
     ]
    }
   ],
   "source": [
    "# 최적 매개변수 저장\n",
    "best_params = xgb_bo.max['params']\n",
    "\n",
    "# 최적 매개변수 중 max_depth와 n_estimators를 정수로 변환\n",
    "best_params['max_depth'] = int(best_params['max_depth'])\n",
    "best_params['n_estimators'] = int(best_params['n_estimators'])\n",
    "\n",
    "# 목적 함수와 클래스 개수 설정\n",
    "best_params['objective'] = 'multi:softprob'\n",
    "best_params['num_class'] = len(sample_submission.columns)\n",
    "\n",
    "# 최적 매개변수로 XGBoost 모델 훈련 및 모델 내보내기\n",
    "bst = xgb.train(best_params, dtrain)\n",
    "bst.save_model('model.bst')\n",
    "\n",
    "# 레이블이 없는 데이터에 대한 예측값 생성\n",
    "y_pred = bst.predict(dtest)"
   ]
  },
  {
   "cell_type": "markdown",
   "metadata": {},
   "source": [
    "#### 4. 최종 제출 파일을 생성합니다."
   ]
  },
  {
   "cell_type": "code",
   "execution_count": 37,
   "metadata": {},
   "outputs": [],
   "source": [
    "# 예측값을 submission 데이터 프레임으로 저장\n",
    "submission = pd.DataFrame(data=y_pred, columns=sample_submission.columns, index=sample_submission.index)\n",
    "\n",
    "# submission 데이터 프레임을 CSV 파일로 출력\n",
    "submission.to_csv('FlightDelayPrediction_submission_pre_tune.csv', index=True)"
   ]
  },
  {
   "attachments": {
    "image.png": {
     "image/png": "[encoded data removed]"
    }
   },
   "cell_type": "markdown",
   "metadata": {},
   "source": [
    "해당 제출 파일으로, 2023년 04월 19일 21시 기준으로 0.635점으로 2등을 달성하였습니다.\n",
    "![image.png](attachment:image.png)"
   ]
  },
  {
   "cell_type": "code",
   "execution_count": 38,
   "metadata": {},
   "outputs": [
    {
     "name": "stdout",
     "output_type": "stream",
     "text": [
      "수행 시간: 1:24:37.670862\n",
      "종료 시각: 2023.05.16 - 18:09:37\n"
     ]
    }
   ],
   "source": [
    "time_end = time.time()\n",
    "sec = (time_end - time_start)\n",
    "print(\"수행 시간:\", datetime.timedelta(seconds=sec))\n",
    "print('종료 시각:', time.strftime('%Y.%m.%d - %H:%M:%S'))"
   ]
  }
 ],
 "metadata": {
  "kernelspec": {
   "display_name": "Python 3",
   "language": "python",
   "name": "python3"
  },
  "language_info": {
   "codemirror_mode": {
    "name": "ipython",
    "version": 3
   },
   "file_extension": ".py",
   "mimetype": "text/x-python",
   "name": "python",
   "nbconvert_exporter": "python",
   "pygments_lexer": "ipython3",
   "version": "3.8.5"
  },
  "vp": {
   "vp_config_version": "1.0.0",
   "vp_menu_width": 273,
   "vp_note_display": false,
   "vp_note_width": 0,
   "vp_position": {
    "width": 278
   },
   "vp_section_display": false,
   "vp_signature": "VisualPython"
  }
 },
 "nbformat": 4,
 "nbformat_minor": 4
}
